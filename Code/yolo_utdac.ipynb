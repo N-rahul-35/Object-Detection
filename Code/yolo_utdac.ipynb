{
 "cells": [
  {
   "cell_type": "code",
   "execution_count": 1,
   "metadata": {},
   "outputs": [
    {
     "name": "stdout",
     "output_type": "stream",
     "text": [
      "8.2.49\n"
     ]
    }
   ],
   "source": [
    "import ultralytics\n",
    "print(ultralytics.__version__)"
   ]
  },
  {
   "cell_type": "code",
   "execution_count": 3,
   "metadata": {},
   "outputs": [],
   "source": [
    "import torch\n",
    "import torchvision\n",
    "from torchvision import models\n",
    "from torchvision.transforms import functional as FT\n",
    "from torchvision.transforms import transforms as T\n",
    "from torch import nn, optim\n",
    "from torch.utils.data import DataLoader, Dataset, Subset\n",
    "import cv2\n",
    "from PIL import Image\n",
    "import albumentations as A\n",
    "from albumentations.pytorch import ToTensorV2\n",
    "from pycocotools.coco import COCO\n",
    "import matplotlib.pyplot as plt\n",
    "import matplotlib.patches as patches\n",
    "from collections import defaultdict, deque\n",
    "import datetime\n",
    "import time\n",
    "from tqdm import tqdm\n",
    "from torchvision.utils import draw_bounding_boxes"
   ]
  },
  {
   "cell_type": "code",
   "execution_count": 4,
   "metadata": {},
   "outputs": [],
   "source": [
    "# Define albumentations\n",
    "def get_albumentation(train):\n",
    "    if train:\n",
    "        return A.Compose([\n",
    "            A.Resize(500,500),\n",
    "            A.HorizontalFlip(p=0.3),\n",
    "            A.RandomBrightnessContrast(p=0.1),\n",
    "            A.ColorJitter(p=0.1),\n",
    "            ToTensorV2()\n",
    "        ], bbox_params=A.BboxParams(format='pascal_voc', label_fields=['labels']))\n",
    "    else:\n",
    "        return A.Compose([\n",
    "            A.Resize(300, 300),\n",
    "            ToTensorV2()\n",
    "        ], bbox_params=A.BboxParams(format='pascal_voc', label_fields=['labels']))\n"
   ]
  },
  {
   "cell_type": "code",
   "execution_count": 9,
   "metadata": {},
   "outputs": [],
   "source": [
    "# Define dataset path\n",
    "dataset_path = 'D:/summer_intern/Dataset/UTDAC2020/UTDAC2020'\n",
    "annotation_train = os.path.join(dataset_path, 'annotations', 'instances_train2017_waterweeds.json')\n",
    "annotation_val = os.path.join(dataset_path, 'annotations', 'instances_val2017_waterweeds.json')\n"
   ]
  },
  {
   "cell_type": "code",
   "execution_count": 10,
   "metadata": {},
   "outputs": [
    {
     "name": "stdout",
     "output_type": "stream",
     "text": [
      "loading annotations into memory...\n",
      "Done (t=0.42s)\n",
      "creating index...\n",
      "index created!\n",
      "Unique classes and their IDs: {1: 'echinus', 2: 'starfish', 3: 'holothurian', 4: 'scallop', 5: 'waterweeds'}\n",
      "Number of unique classes: 5\n"
     ]
    }
   ],
   "source": [
    "def find_unique_classes_and_count(annotation_file):\n",
    "    coco = COCO(annotation_file)\n",
    "    categories = coco.loadCats(coco.getCatIds())\n",
    "    category_dict = {cat['id']: cat['name'] for cat in categories}\n",
    "    return category_dict, len(category_dict)\n",
    "\n",
    "# Example usage:\n",
    "classes, n_classes = find_unique_classes_and_count(annotation_train)\n",
    "\n",
    "print(f\"Unique classes and their IDs: {classes}\")\n",
    "print(f\"Number of unique classes: {n_classes}\")"
   ]
  },
  {
   "cell_type": "code",
   "execution_count": 11,
   "metadata": {},
   "outputs": [],
   "source": [
    "class_id_map = {original_id: new_id for new_id, original_id in enumerate(classes)}"
   ]
  },
  {
   "cell_type": "code",
   "execution_count": 13,
   "metadata": {},
   "outputs": [],
   "source": [
    "from torchvision import datasets\n",
    "class UTDACDetectionYOLO(datasets.VisionDataset):\n",
    "    def __init__(self, root, annotation_file, transforms=None):\n",
    "        super(UTDACDetectionYOLO, self).__init__(root, transforms=transforms)\n",
    "        self.root = root\n",
    "        self.transforms = transforms\n",
    "        self.coco = COCO(annotation_file)  # Load COCO annotations\n",
    "\n",
    "        # Load image ids\n",
    "        self.img_ids = self.coco.getImgIds()\n",
    "        self.imgs = [self.coco.loadImgs(img_id)[0]['file_name'] for img_id in self.img_ids]\n",
    "\n",
    "    def __getitem__(self, idx):\n",
    "        # Get image id\n",
    "        img_id = self.img_ids[idx]\n",
    "\n",
    "        # Load image\n",
    "        img_path = os.path.join(self.root, self.imgs[idx])\n",
    "        img = cv2.imread(img_path)\n",
    "        img_rgb = cv2.cvtColor(img, cv2.COLOR_BGR2RGB).astype(np.float32) / 255.0\n",
    "        height, width, _ = img.shape\n",
    "\n",
    "        # Load annotations for the image\n",
    "        ann_ids = self.coco.getAnnIds(imgIds=[img_id])\n",
    "        anns = self.coco.loadAnns(ann_ids)\n",
    "        \n",
    "        boxes = []\n",
    "        labels = []\n",
    "        for ann in anns:\n",
    "            bbox = ann['bbox']\n",
    "            # Convert bbox from [x, y, width, height] to [x_min, y_min, x_max, y_max]\n",
    "            x_min = bbox[0]\n",
    "            y_min = bbox[1]\n",
    "            x_max = bbox[0] + bbox[2]\n",
    "            y_max = bbox[1] + bbox[3]\n",
    "            boxes.append([x_min, y_min, x_max, y_max])\n",
    "            labels.append(class_id_map[ann['category_id']])  # Map original class ID to new class ID\n",
    "\n",
    "        # Correct invalid bounding boxes\n",
    "        corrected_boxes = []\n",
    "        for bbox in boxes:\n",
    "            x_min, y_min, x_max, y_max = bbox\n",
    "            if x_max <= x_min:\n",
    "                x_min, x_max = x_max, x_min\n",
    "            if y_max <= y_min:\n",
    "                y_min, y_max = y_max, y_min\n",
    "            corrected_boxes.append([x_min, y_min, x_max, y_max])\n",
    "        \n",
    "        boxesYOLO = []\n",
    "        for bbox in corrected_boxes:\n",
    "            # Convert to YOLO format\n",
    "            x_min, y_min, x_max, y_max = bbox\n",
    "            x_center = (x_min + x_max) / 2 / width\n",
    "            y_center = (y_min + y_max) / 2 / height\n",
    "            box_width = (x_max - x_min) / width\n",
    "            box_height = (y_max - y_min) / height\n",
    "            boxesYOLO.append([x_center, y_center, box_width, box_height])\n",
    "            \n",
    "        # Convert to tensors\n",
    "        boxes = torch.tensor(boxesYOLO, dtype=torch.float32).clone().detach()\n",
    "        labels = torch.tensor(labels, dtype=torch.int64).clone().detach()\n",
    "\n",
    "        # Create target dictionary\n",
    "        target = {\n",
    "            \"boxes\": boxes,\n",
    "            \"labels\": labels,\n",
    "            \"image_id\": torch.tensor([idx]),\n",
    "            \"area\": torch.tensor([ann['area'] for ann in anns]),\n",
    "            \"iscrowd\": torch.tensor([ann['iscrowd'] for ann in anns])\n",
    "        }\n",
    "\n",
    "        # Apply transformations\n",
    "        if self.transforms is not None:\n",
    "            transformed = self.transforms(image=img_rgb, bboxes=target['boxes'], labels=labels)\n",
    "            img_rgb = transformed['image']\n",
    "            target['boxes'] = torch.tensor(transformed['bboxes'], dtype=torch.float32).clone().detach()\n",
    "\n",
    "        return img_rgb, target\n",
    "    def __len__(self):\n",
    "        return len(self.imgs)\n",
    "\n"
   ]
  },
  {
   "cell_type": "code",
   "execution_count": 14,
   "metadata": {},
   "outputs": [
    {
     "name": "stdout",
     "output_type": "stream",
     "text": [
      "loading annotations into memory...\n",
      "Done (t=0.35s)\n",
      "creating index...\n",
      "index created!\n"
     ]
    }
   ],
   "source": [
    "import os\n",
    "train_dataset = UTDACDetectionYOLO(root=os.path.join(dataset_path, 'Filtered_images_2'), annotation_file=annotation_train)\n"
   ]
  },
  {
   "cell_type": "code",
   "execution_count": 15,
   "metadata": {},
   "outputs": [],
   "source": [
    "img, target = train_dataset[1]"
   ]
  },
  {
   "cell_type": "code",
   "execution_count": 16,
   "metadata": {},
   "outputs": [
    {
     "data": {
      "text/plain": [
       "{'boxes': tensor([[0.2863, 0.5299, 0.0268, 0.0505],\n",
       "         [0.3738, 0.3894, 0.0247, 0.0407]]),\n",
       " 'labels': tensor([0, 0]),\n",
       " 'image_id': tensor([1]),\n",
       " 'area': tensor([11440,  8544]),\n",
       " 'iscrowd': tensor([0, 0])}"
      ]
     },
     "execution_count": 16,
     "metadata": {},
     "output_type": "execute_result"
    }
   ],
   "source": [
    "target"
   ]
  },
  {
   "cell_type": "code",
   "execution_count": 17,
   "metadata": {},
   "outputs": [
    {
     "data": {
      "text/plain": [
       "5168"
      ]
     },
     "execution_count": 17,
     "metadata": {},
     "output_type": "execute_result"
    }
   ],
   "source": [
    "len(train_dataset)"
   ]
  },
  {
   "cell_type": "code",
   "execution_count": 23,
   "metadata": {},
   "outputs": [
    {
     "name": "stdout",
     "output_type": "stream",
     "text": [
      "loading annotations into memory...\n",
      "Done (t=0.06s)\n",
      "creating index...\n",
      "index created!\n"
     ]
    }
   ],
   "source": [
    "val_dataset=UTDACDetectionYOLO(root=os.path.join(dataset_path,'Filtered_images_val'),annotation_file=annotation_val)"
   ]
  },
  {
   "cell_type": "code",
   "execution_count": 18,
   "metadata": {},
   "outputs": [],
   "source": [
    "def convert_to_yolo_format(target):\n",
    "    boxes = target['boxes']\n",
    "    labels = target['labels']\n",
    "    image_id = target['image_id'].item()\n",
    "\n",
    "    yolo_boxes = []\n",
    "    for i, box in enumerate(boxes):\n",
    "        x_center, y_center, width, height = box\n",
    "        label = labels[i].item()\n",
    "        yolo_boxes.append(f\"{label} {x_center} {y_center} {width} {height}\")\n",
    "    \n",
    "    return yolo_boxes, image_id"
   ]
  },
  {
   "cell_type": "code",
   "execution_count": 24,
   "metadata": {},
   "outputs": [],
   "source": [
    "def save_yolo_annotations(yolo_boxes,file_name, output_dir):\n",
    "    labels_dir = os.path.join(output_dir, \"val\")\n",
    "    os.makedirs(labels_dir, exist_ok=True)\n",
    "   \n",
    "    # Remove the extension from the file name to get the base name\n",
    "   \n",
    "    # Remove the extension from the file name to get the base name\n",
    "    base_name = os.path.splitext(file_name)[0]\n",
    "    txt_file_path = os.path.join(labels_dir, f\"{base_name}.txt\")\n",
    "    \n",
    "    with open(txt_file_path, 'w') as f:\n",
    "        for box in yolo_boxes:\n",
    "            f.write(f\"{box}\\n\")"
   ]
  },
  {
   "cell_type": "code",
   "execution_count": 27,
   "metadata": {},
   "outputs": [
    {
     "name": "stdout",
     "output_type": "stream",
     "text": [
      "YOLO annotation saving completed.\n"
     ]
    }
   ],
   "source": [
    "import json\n",
    "Label_dir=os.path.join(dataset_path, 'labels')\n",
    "with open(annotation_val, 'r') as file:\n",
    "        data = json.load(file)\n",
    "for image, target in val_dataset:\n",
    "    yolo_boxes, image_id = convert_to_yolo_format(target)\n",
    "    file_name = next((img['file_name'] for img in data['images'] if img['id'] == image_id), None)\n",
    "    if file_name:\n",
    "        save_yolo_annotations(yolo_boxes, file_name, Label_dir)\n",
    "    else:\n",
    "        print(f\"No matching file_name found for image_id {image_id}\")\n",
    "    \n",
    "\n",
    "print(\"YOLO annotation saving completed.\")    "
   ]
  },
  {
   "cell_type": "code",
   "execution_count": 36,
   "metadata": {},
   "outputs": [],
   "source": [
    "class CFG:\n",
    "    DEBUG = False\n",
    "    \n",
    "    SEED = 1\n",
    "\n",
    "    # classes\n",
    "    NUM_CLASSES = 5\n",
    "    CLASSES = ['echinus', 'starfish', 'holothurian', 'scallop', 'waterweeds']\n",
    "\n",
    "    # training\n",
    "    EPOCHS = 25\n",
    "    BATCH_SIZE = 16\n",
    "    \n",
    "    BASE_MODEL = 'yolov8n'  # yolov8n, yolov8s, yolov8m, yolov8l, yolov8x, yolov9c, yolov9e\n",
    "    BASE_MODEL_WEIGHTS = f'{BASE_MODEL}.pt'\n",
    "    EXP_NAME = f'ppe_css_{EPOCHS}_epochs'\n",
    "    \n",
    "    OPTIMIZER = 'auto'  # SGD, Adam, Adamax, AdamW, NAdam, RAdam, RMSProp, auto\n",
    "    LR = 0.001\n",
    "    LR_FACTOR = 0.01\n",
    "    WEIGHT_DECAY = 5e-4\n",
    "    DROPOUT = 0.0\n",
    "    PATIENCE = 20\n",
    "    PROFILE = False\n",
    "    LABEL_SMOOTHING = 0.0    \n",
    "\n",
    "    # paths\n",
    "    CUSTOM_DATASET_DIR = 'D:/summer_intern/Dataset/UTDAC2020/UTDAC2020'\n",
    "    \n",
    "    OUTPUT_DIR = 'D:/summer_intern/Dataset/UTDAC2020/UTDAC2020'"
   ]
  },
  {
   "cell_type": "code",
   "execution_count": 37,
   "metadata": {},
   "outputs": [
    {
     "name": "stdout",
     "output_type": "stream",
     "text": [
      "8.2.49\n"
     ]
    }
   ],
   "source": [
    "import ultralytics\n",
    "print(ultralytics.__version__)"
   ]
  },
  {
   "cell_type": "code",
   "execution_count": 38,
   "metadata": {},
   "outputs": [],
   "source": [
    "from ultralytics import YOLO"
   ]
  },
  {
   "cell_type": "code",
   "execution_count": 39,
   "metadata": {},
   "outputs": [],
   "source": [
    "import yaml\n",
    "dict_file = {\n",
    "    'train': os.path.join(CFG.CUSTOM_DATASET_DIR, 'train'),\n",
    "    'val': os.path.join(CFG.CUSTOM_DATASET_DIR, 'val'),\n",
    "    \n",
    "    'nc': CFG.NUM_CLASSES,\n",
    "    'names': CFG.CLASSES\n",
    "    }\n",
    "\n",
    "with open(os.path.join(CFG.OUTPUT_DIR, 'data.yaml'), 'w+') as file:\n",
    "    yaml.dump(dict_file, file)"
   ]
  },
  {
   "cell_type": "code",
   "execution_count": 40,
   "metadata": {},
   "outputs": [
    {
     "name": "stdout",
     "output_type": "stream",
     "text": [
      "names:\n",
      "- echinus\n",
      "- starfish\n",
      "- holothurian\n",
      "- scallop\n",
      "- waterweeds\n",
      "nc: 5\n",
      "train: D:/summer_intern/Dataset/UTDAC2020/UTDAC2020\\train\n",
      "val: D:/summer_intern/Dataset/UTDAC2020/UTDAC2020\\val\n",
      "\n"
     ]
    }
   ],
   "source": [
    "### read yaml file created\n",
    "def read_yaml_file(file_path = CFG.CUSTOM_DATASET_DIR):\n",
    "    with open(file_path, 'r') as file:\n",
    "        try:\n",
    "            data = yaml.safe_load(file)\n",
    "            return data\n",
    "        except yaml.YAMLError as e:\n",
    "            print(\"Error reading YAML:\", e)\n",
    "            return None\n",
    "\n",
    "### print it with newlines\n",
    "def print_yaml_data(data):\n",
    "    formatted_yaml = yaml.dump(data, default_style=False)\n",
    "    print(formatted_yaml)\n",
    "\n",
    "file_path = os.path.join(CFG.OUTPUT_DIR, 'data.yaml')\n",
    "yaml_data = read_yaml_file(file_path)\n",
    "\n",
    "if yaml_data:\n",
    "    print_yaml_data(yaml_data)"
   ]
  },
  {
   "cell_type": "code",
   "execution_count": 42,
   "metadata": {},
   "outputs": [
    {
     "name": "stdout",
     "output_type": "stream",
     "text": [
      "    Mode  echinus  starfish  holothurian  scallop  waterweeds  Data_Volume\n",
      "0  train     1892      1208         1171      830          10         2584\n",
      "1    val      465       283          288      221           2          646\n"
     ]
    }
   ],
   "source": [
    "import pandas as pd\n",
    "class_idx = {str(i): CFG.CLASSES[i] for i in range(CFG.NUM_CLASSES)}\n",
    "\n",
    "# Initialize dictionaries to store statistics\n",
    "class_stat = {}\n",
    "data_len = {}\n",
    "class_info = []\n",
    "\n",
    "# Iterate over dataset modes\n",
    "for mode in ['train', 'val']:\n",
    "    # Initialize class count for the current mode\n",
    "    class_count = {CFG.CLASSES[i]: 0 for i in range(CFG.NUM_CLASSES)}\n",
    "    \n",
    "    # Path to the labels directory for the current mode\n",
    "    path = os.path.join(CFG.CUSTOM_DATASET_DIR, mode,'labels')\n",
    "    \n",
    "    # Iterate over label files in the directory\n",
    "    for file in os.listdir(path):\n",
    "        with open(os.path.join(path, file)) as f:\n",
    "            lines = f.readlines()\n",
    "            \n",
    "            # Increment the count for each unique class in the file\n",
    "            for cls in set([line.split()[0] for line in lines]):\n",
    "                class_count[class_idx[cls]] += 1\n",
    "\n",
    "    # Store data length and class count statistics\n",
    "    data_len[mode] = len(os.listdir(path))\n",
    "    class_stat[mode] = class_count\n",
    "    \n",
    "    # Append information for the current mode\n",
    "    class_info.append({'Mode': mode, **class_count, 'Data_Volume': data_len[mode]})\n",
    "\n",
    "# Create a DataFrame to store the statistics\n",
    "dataset_stats_df = pd.DataFrame(class_info)\n",
    "print(dataset_stats_df)"
   ]
  },
  {
   "cell_type": "code",
   "execution_count": 43,
   "metadata": {},
   "outputs": [
    {
     "data": {
      "image/png": "[encoded data removed]",
      "text/plain": [
       "<Figure size 1500x500 with 2 Axes>"
      ]
     },
     "metadata": {},
     "output_type": "display_data"
    }
   ],
   "source": [
    "\n",
    "import matplotlib.pyplot as plt\n",
    "import seaborn as sns\n",
    "\n",
    "# Assuming dataset_stats_df is already created\n",
    "\n",
    "# Create subplots with 1 row and 2 columns for 'train' and 'val'\n",
    "fig, axes = plt.subplots(1, 2, figsize=(15, 5))\n",
    "\n",
    "# Plot vertical bar plots for each mode in subplots\n",
    "for i, mode in enumerate(['train', 'val']):\n",
    "    sns.barplot(\n",
    "        data=dataset_stats_df[dataset_stats_df['Mode'] == mode].drop(columns='Mode'),\n",
    "        orient='v',\n",
    "        ax=axes[i],\n",
    "        palette='Set2'\n",
    "    )\n",
    "    \n",
    "    axes[i].set_title(f'{mode.capitalize()} Class Statistics')\n",
    "    axes[i].set_xlabel('Classes')\n",
    "    axes[i].set_ylabel('Count')\n",
    "    axes[i].tick_params(axis='x', rotation=90) \n",
    "\n",
    "    # Add annotations on top of each bar\n",
    "    for p in axes[i].patches:\n",
    "        axes[i].annotate(f\"{int(p.get_height())}\", (p.get_x() + p.get_width() / 2., p.get_height()),\n",
    "                         ha='center', va='center', fontsize=8, color='black', xytext=(0, 5),\n",
    "                         textcoords='offset points')\n",
    "\n",
    "plt.tight_layout()\n",
    "plt.show()\n"
   ]
  },
  {
   "cell_type": "code",
   "execution_count": 44,
   "metadata": {},
   "outputs": [
    {
     "name": "stdout",
     "output_type": "stream",
     "text": [
      "Model:  yolov8n.pt\n",
      "Epochs:  25\n",
      "Batch:  16\n"
     ]
    }
   ],
   "source": [
    "print('Model: ', CFG.BASE_MODEL_WEIGHTS)\n",
    "print('Epochs: ', CFG.EPOCHS)\n",
    "print('Batch: ', CFG.BATCH_SIZE)"
   ]
  },
  {
   "cell_type": "code",
   "execution_count": 45,
   "metadata": {},
   "outputs": [],
   "source": [
    "\n",
    "img_properties = {\n",
    "    'height': 500,\n",
    "    'width': 500\n",
    "}"
   ]
  },
  {
   "cell_type": "code",
   "execution_count": 47,
   "metadata": {},
   "outputs": [
    {
     "name": "stdout",
     "output_type": "stream",
     "text": [
      "Downloading https://github.com/ultralytics/assets/releases/download/v8.2.0/yolov8n.pt to 'yolov8n.pt'...\n"
     ]
    },
    {
     "name": "stderr",
     "output_type": "stream",
     "text": [
      "100%|██████████| 6.25M/6.25M [01:12<00:00, 90.5kB/s]\n"
     ]
    }
   ],
   "source": [
    "# Load the model\n",
    "model = YOLO(CFG.BASE_MODEL_WEIGHTS)"
   ]
  },
  {
   "cell_type": "code",
   "execution_count": 48,
   "metadata": {},
   "outputs": [
    {
     "name": "stdout",
     "output_type": "stream",
     "text": [
      "Ultralytics YOLOv8.2.49  Python-3.11.3 torch-2.3.1+cpu CPU (11th Gen Intel Core(TM) i5-11320H 3.20GHz)\n",
      "\u001b[34m\u001b[1mengine\\trainer: \u001b[0mtask=detect, mode=train, model=yolov8n.pt, data=D:/summer_intern/Dataset/UTDAC2020/UTDAC2020\\data.yaml, epochs=25, time=None, patience=100, batch=16, imgsz=(500, 500), save=True, save_period=-1, cache=False, device=None, workers=4, project=None, name=ppe_css_25_epochs, exist_ok=False, pretrained=True, optimizer=auto, verbose=True, seed=1, deterministic=True, single_cls=False, rect=False, cos_lr=False, close_mosaic=10, resume=False, amp=True, fraction=1.0, profile=False, freeze=None, multi_scale=False, overlap_mask=True, mask_ratio=4, dropout=0.0, val=True, split=val, save_json=False, save_hybrid=False, conf=None, iou=0.7, max_det=300, half=False, dnn=False, plots=True, source=None, vid_stride=1, stream_buffer=False, visualize=False, augment=False, agnostic_nms=False, classes=None, retina_masks=False, embed=None, show=False, save_frames=False, save_txt=False, save_conf=False, save_crop=False, show_labels=True, show_conf=True, show_boxes=True, line_width=None, format=torchscript, keras=False, optimize=False, int8=False, dynamic=False, simplify=False, opset=None, workspace=4, nms=False, lr0=0.001, lrf=0.01, momentum=0.937, weight_decay=0.0005, warmup_epochs=3.0, warmup_momentum=0.8, warmup_bias_lr=0.1, box=7.5, cls=0.5, dfl=1.5, pose=12.0, kobj=1.0, label_smoothing=0.0, nbs=64, hsv_h=0.015, hsv_s=0.7, hsv_v=0.4, degrees=0.0, translate=0.1, scale=0.5, shear=0.0, perspective=0.0, flipud=0.0, fliplr=0.5, bgr=0.0, mosaic=1.0, mixup=0.0, copy_paste=0.0, auto_augment=randaugment, erasing=0.4, crop_fraction=1.0, cfg=None, tracker=botsort.yaml, save_dir=runs\\detect\\ppe_css_25_epochs\n",
      "Overriding model.yaml nc=80 with nc=5\n",
      "\n",
      "                   from  n    params  module                                       arguments                     \n",
      "  0                  -1  1       464  ultralytics.nn.modules.conv.Conv             [3, 16, 3, 2]                 \n",
      "  1                  -1  1      4672  ultralytics.nn.modules.conv.Conv             [16, 32, 3, 2]                \n",
      "  2                  -1  1      7360  ultralytics.nn.modules.block.C2f             [32, 32, 1, True]             \n",
      "  3                  -1  1     18560  ultralytics.nn.modules.conv.Conv             [32, 64, 3, 2]                \n",
      "  4                  -1  2     49664  ultralytics.nn.modules.block.C2f             [64, 64, 2, True]             \n",
      "  5                  -1  1     73984  ultralytics.nn.modules.conv.Conv             [64, 128, 3, 2]               \n",
      "  6                  -1  2    197632  ultralytics.nn.modules.block.C2f             [128, 128, 2, True]           \n",
      "  7                  -1  1    295424  ultralytics.nn.modules.conv.Conv             [128, 256, 3, 2]              \n",
      "  8                  -1  1    460288  ultralytics.nn.modules.block.C2f             [256, 256, 1, True]           \n",
      "  9                  -1  1    164608  ultralytics.nn.modules.block.SPPF            [256, 256, 5]                 \n",
      " 10                  -1  1         0  torch.nn.modules.upsampling.Upsample         [None, 2, 'nearest']          \n",
      " 11             [-1, 6]  1         0  ultralytics.nn.modules.conv.Concat           [1]                           \n",
      " 12                  -1  1    148224  ultralytics.nn.modules.block.C2f             [384, 128, 1]                 \n",
      " 13                  -1  1         0  torch.nn.modules.upsampling.Upsample         [None, 2, 'nearest']          \n",
      " 14             [-1, 4]  1         0  ultralytics.nn.modules.conv.Concat           [1]                           \n",
      " 15                  -1  1     37248  ultralytics.nn.modules.block.C2f             [192, 64, 1]                  \n",
      " 16                  -1  1     36992  ultralytics.nn.modules.conv.Conv             [64, 64, 3, 2]                \n",
      " 17            [-1, 12]  1         0  ultralytics.nn.modules.conv.Concat           [1]                           \n",
      " 18                  -1  1    123648  ultralytics.nn.modules.block.C2f             [192, 128, 1]                 \n",
      " 19                  -1  1    147712  ultralytics.nn.modules.conv.Conv             [128, 128, 3, 2]              \n",
      " 20             [-1, 9]  1         0  ultralytics.nn.modules.conv.Concat           [1]                           \n",
      " 21                  -1  1    493056  ultralytics.nn.modules.block.C2f             [384, 256, 1]                 \n",
      " 22        [15, 18, 21]  1    752287  ultralytics.nn.modules.head.Detect           [5, [64, 128, 256]]           \n",
      "Model summary: 225 layers, 3011823 parameters, 3011807 gradients, 8.2 GFLOPs\n",
      "\n",
      "Transferred 319/355 items from pretrained weights\n",
      "\u001b[34m\u001b[1mTensorBoard: \u001b[0mStart with 'tensorboard --logdir runs\\detect\\ppe_css_25_epochs', view at http://localhost:6006/\n",
      "Freezing layer 'model.22.dfl.conv.weight'\n",
      "WARNING  updating to 'imgsz=500'. 'train' and 'val' imgsz must be an integer, while 'predict' and 'export' imgsz may be a [h, w] list or an integer, i.e. 'yolo export imgsz=640,480' or 'yolo export imgsz=640'\n",
      "WARNING  imgsz=[500] must be multiple of max stride 32, updating to [512]\n"
     ]
    },
    {
     "name": "stderr",
     "output_type": "stream",
     "text": [
      "\u001b[34m\u001b[1mtrain: \u001b[0mScanning D:\\summer_intern\\Dataset\\UTDAC2020\\UTDAC2020\\train\\labels... 2584 images, 0 backgrounds, 0 corrupt: 100%|██████████| 2584/2584 [00:02<00:00, 936.11it/s]"
     ]
    },
    {
     "name": "stdout",
     "output_type": "stream",
     "text": [
      "\u001b[34m\u001b[1mtrain: \u001b[0mWARNING  D:\\summer_intern\\Dataset\\UTDAC2020\\UTDAC2020\\train\\images\\000508.jpg: 1 duplicate labels removed\n"
     ]
    },
    {
     "name": "stderr",
     "output_type": "stream",
     "text": [
      "\n"
     ]
    },
    {
     "name": "stdout",
     "output_type": "stream",
     "text": [
      "\u001b[34m\u001b[1mtrain: \u001b[0mNew cache created: D:\\summer_intern\\Dataset\\UTDAC2020\\UTDAC2020\\train\\labels.cache\n",
      "\u001b[34m\u001b[1malbumentations: \u001b[0mBlur(p=0.01, blur_limit=(3, 7)), MedianBlur(p=0.01, blur_limit=(3, 7)), ToGray(p=0.01), CLAHE(p=0.01, clip_limit=(1, 4.0), tile_grid_size=(8, 8))\n"
     ]
    },
    {
     "name": "stderr",
     "output_type": "stream",
     "text": [
      "\u001b[34m\u001b[1mval: \u001b[0mScanning D:\\summer_intern\\Dataset\\UTDAC2020\\UTDAC2020\\val\\labels... 646 images, 0 backgrounds, 0 corrupt: 100%|██████████| 646/646 [00:00<00:00, 919.33it/s]"
     ]
    },
    {
     "name": "stdout",
     "output_type": "stream",
     "text": [
      "\u001b[34m\u001b[1mval: \u001b[0mNew cache created: D:\\summer_intern\\Dataset\\UTDAC2020\\UTDAC2020\\val\\labels.cache\n",
      "Plotting labels to runs\\detect\\ppe_css_25_epochs\\labels.jpg... \n"
     ]
    },
    {
     "name": "stderr",
     "output_type": "stream",
     "text": [
      "\n"
     ]
    },
    {
     "name": "stdout",
     "output_type": "stream",
     "text": [
      "\u001b[34m\u001b[1moptimizer:\u001b[0m 'optimizer=auto' found, ignoring 'lr0=0.001' and 'momentum=0.937' and determining best 'optimizer', 'lr0' and 'momentum' automatically... \n",
      "\u001b[34m\u001b[1moptimizer:\u001b[0m AdamW(lr=0.001111, momentum=0.9) with parameter groups 57 weight(decay=0.0), 64 weight(decay=0.0005), 63 bias(decay=0.0)\n",
      "\u001b[34m\u001b[1mTensorBoard: \u001b[0mmodel graph visualization added \n",
      "Image sizes 512 train, 512 val\n",
      "Using 0 dataloader workers\n",
      "Logging results to \u001b[1mruns\\detect\\ppe_css_25_epochs\u001b[0m\n",
      "Starting training for 25 epochs...\n",
      "\n",
      "      Epoch    GPU_mem   box_loss   cls_loss   dfl_loss  Instances       Size\n"
     ]
    },
    {
     "name": "stderr",
     "output_type": "stream",
     "text": [
      "       1/25         0G      1.994      2.544      1.307        127        512: 100%|██████████| 162/162 [21:21<00:00,  7.91s/it]\n",
      "                 Class     Images  Instances      Box(P          R      mAP50  mAP50-95): 100%|██████████| 21/21 [01:41<00:00,  4.83s/it]"
     ]
    },
    {
     "name": "stdout",
     "output_type": "stream",
     "text": [
      "                   all        646       5655      0.684       0.31      0.343      0.163\n"
     ]
    },
    {
     "name": "stderr",
     "output_type": "stream",
     "text": [
      "\n"
     ]
    },
    {
     "name": "stdout",
     "output_type": "stream",
     "text": [
      "\n",
      "      Epoch    GPU_mem   box_loss   cls_loss   dfl_loss  Instances       Size\n"
     ]
    },
    {
     "name": "stderr",
     "output_type": "stream",
     "text": [
      "       2/25         0G      1.814      1.593      1.199         77        512: 100%|██████████| 162/162 [21:16<00:00,  7.88s/it]\n",
      "                 Class     Images  Instances      Box(P          R      mAP50  mAP50-95): 100%|██████████| 21/21 [02:54<00:00,  8.32s/it]"
     ]
    },
    {
     "name": "stdout",
     "output_type": "stream",
     "text": [
      "                   all        646       5655      0.697      0.367      0.398      0.192\n"
     ]
    },
    {
     "name": "stderr",
     "output_type": "stream",
     "text": [
      "\n"
     ]
    },
    {
     "name": "stdout",
     "output_type": "stream",
     "text": [
      "\n",
      "      Epoch    GPU_mem   box_loss   cls_loss   dfl_loss  Instances       Size\n"
     ]
    },
    {
     "name": "stderr",
     "output_type": "stream",
     "text": [
      "       3/25         0G      1.778      1.479      1.191        138        512: 100%|██████████| 162/162 [32:05<00:00, 11.89s/it]\n",
      "                 Class     Images  Instances      Box(P          R      mAP50  mAP50-95): 100%|██████████| 21/21 [03:29<00:00,  9.96s/it]"
     ]
    },
    {
     "name": "stdout",
     "output_type": "stream",
     "text": [
      "                   all        646       5655      0.452      0.415       0.42      0.197\n"
     ]
    },
    {
     "name": "stderr",
     "output_type": "stream",
     "text": [
      "\n"
     ]
    },
    {
     "name": "stdout",
     "output_type": "stream",
     "text": [
      "\n",
      "      Epoch    GPU_mem   box_loss   cls_loss   dfl_loss  Instances       Size\n"
     ]
    },
    {
     "name": "stderr",
     "output_type": "stream",
     "text": [
      "       4/25         0G      1.745      1.413      1.169         99        512: 100%|██████████| 162/162 [32:33<00:00, 12.06s/it]\n",
      "                 Class     Images  Instances      Box(P          R      mAP50  mAP50-95): 100%|██████████| 21/21 [02:52<00:00,  8.21s/it]"
     ]
    },
    {
     "name": "stdout",
     "output_type": "stream",
     "text": [
      "                   all        646       5655      0.499       0.46      0.475      0.233\n"
     ]
    },
    {
     "name": "stderr",
     "output_type": "stream",
     "text": [
      "\n"
     ]
    },
    {
     "name": "stdout",
     "output_type": "stream",
     "text": [
      "\n",
      "      Epoch    GPU_mem   box_loss   cls_loss   dfl_loss  Instances       Size\n"
     ]
    },
    {
     "name": "stderr",
     "output_type": "stream",
     "text": [
      "       5/25         0G      1.729      1.347      1.159        100        512: 100%|██████████| 162/162 [31:25<00:00, 11.64s/it]\n",
      "                 Class     Images  Instances      Box(P          R      mAP50  mAP50-95): 100%|██████████| 21/21 [03:30<00:00, 10.03s/it]"
     ]
    },
    {
     "name": "stdout",
     "output_type": "stream",
     "text": [
      "                   all        646       5655       0.54      0.456      0.503      0.262\n"
     ]
    },
    {
     "name": "stderr",
     "output_type": "stream",
     "text": [
      "\n"
     ]
    },
    {
     "name": "stdout",
     "output_type": "stream",
     "text": [
      "\n",
      "      Epoch    GPU_mem   box_loss   cls_loss   dfl_loss  Instances       Size\n"
     ]
    },
    {
     "name": "stderr",
     "output_type": "stream",
     "text": [
      "       6/25         0G      1.673       1.26      1.143        123        512: 100%|██████████| 162/162 [27:59<00:00, 10.37s/it]\n",
      "                 Class     Images  Instances      Box(P          R      mAP50  mAP50-95): 100%|██████████| 21/21 [01:42<00:00,  4.87s/it]"
     ]
    },
    {
     "name": "stdout",
     "output_type": "stream",
     "text": [
      "                   all        646       5655      0.743      0.454      0.514      0.268\n"
     ]
    },
    {
     "name": "stderr",
     "output_type": "stream",
     "text": [
      "\n"
     ]
    },
    {
     "name": "stdout",
     "output_type": "stream",
     "text": [
      "\n",
      "      Epoch    GPU_mem   box_loss   cls_loss   dfl_loss  Instances       Size\n"
     ]
    },
    {
     "name": "stderr",
     "output_type": "stream",
     "text": [
      "       7/25         0G      1.686      1.254      1.141        111        512: 100%|██████████| 162/162 [19:48<00:00,  7.33s/it]\n",
      "                 Class     Images  Instances      Box(P          R      mAP50  mAP50-95): 100%|██████████| 21/21 [01:38<00:00,  4.71s/it]"
     ]
    },
    {
     "name": "stdout",
     "output_type": "stream",
     "text": [
      "                   all        646       5655      0.756      0.485      0.532      0.278\n"
     ]
    },
    {
     "name": "stderr",
     "output_type": "stream",
     "text": [
      "\n"
     ]
    },
    {
     "name": "stdout",
     "output_type": "stream",
     "text": [
      "\n",
      "      Epoch    GPU_mem   box_loss   cls_loss   dfl_loss  Instances       Size\n"
     ]
    },
    {
     "name": "stderr",
     "output_type": "stream",
     "text": [
      "       8/25         0G      1.656      1.214       1.13        104        512: 100%|██████████| 162/162 [19:35<00:00,  7.25s/it]\n",
      "                 Class     Images  Instances      Box(P          R      mAP50  mAP50-95): 100%|██████████| 21/21 [01:38<00:00,  4.67s/it]"
     ]
    },
    {
     "name": "stdout",
     "output_type": "stream",
     "text": [
      "                   all        646       5655      0.779       0.48      0.535      0.277\n"
     ]
    },
    {
     "name": "stderr",
     "output_type": "stream",
     "text": [
      "\n"
     ]
    },
    {
     "name": "stdout",
     "output_type": "stream",
     "text": [
      "\n",
      "      Epoch    GPU_mem   box_loss   cls_loss   dfl_loss  Instances       Size\n"
     ]
    },
    {
     "name": "stderr",
     "output_type": "stream",
     "text": [
      "       9/25         0G      1.653      1.183      1.124        137        512: 100%|██████████| 162/162 [21:28<00:00,  7.96s/it]\n",
      "                 Class     Images  Instances      Box(P          R      mAP50  mAP50-95): 100%|██████████| 21/21 [01:39<00:00,  4.73s/it]"
     ]
    },
    {
     "name": "stdout",
     "output_type": "stream",
     "text": [
      "                   all        646       5655      0.578      0.501      0.559      0.295\n"
     ]
    },
    {
     "name": "stderr",
     "output_type": "stream",
     "text": [
      "\n"
     ]
    },
    {
     "name": "stdout",
     "output_type": "stream",
     "text": [
      "\n",
      "      Epoch    GPU_mem   box_loss   cls_loss   dfl_loss  Instances       Size\n"
     ]
    },
    {
     "name": "stderr",
     "output_type": "stream",
     "text": [
      "      10/25         0G      1.619      1.153      1.119        139        512: 100%|██████████| 162/162 [19:46<00:00,  7.32s/it]\n",
      "                 Class     Images  Instances      Box(P          R      mAP50  mAP50-95): 100%|██████████| 21/21 [01:38<00:00,  4.70s/it]"
     ]
    },
    {
     "name": "stdout",
     "output_type": "stream",
     "text": [
      "                   all        646       5655       0.79      0.503      0.555      0.295\n"
     ]
    },
    {
     "name": "stderr",
     "output_type": "stream",
     "text": [
      "\n"
     ]
    },
    {
     "name": "stdout",
     "output_type": "stream",
     "text": [
      "\n",
      "      Epoch    GPU_mem   box_loss   cls_loss   dfl_loss  Instances       Size\n"
     ]
    },
    {
     "name": "stderr",
     "output_type": "stream",
     "text": [
      "      11/25         0G      1.615      1.138      1.114        194        512: 100%|██████████| 162/162 [25:24<00:00,  9.41s/it]\n",
      "                 Class     Images  Instances      Box(P          R      mAP50  mAP50-95): 100%|██████████| 21/21 [02:41<00:00,  7.70s/it]"
     ]
    },
    {
     "name": "stdout",
     "output_type": "stream",
     "text": [
      "                   all        646       5655      0.792      0.511      0.584      0.311\n"
     ]
    },
    {
     "name": "stderr",
     "output_type": "stream",
     "text": [
      "\n"
     ]
    },
    {
     "name": "stdout",
     "output_type": "stream",
     "text": [
      "\n",
      "      Epoch    GPU_mem   box_loss   cls_loss   dfl_loss  Instances       Size\n"
     ]
    },
    {
     "name": "stderr",
     "output_type": "stream",
     "text": [
      "      12/25         0G      1.605      1.106      1.107         80        512: 100%|██████████| 162/162 [21:59<00:00,  8.15s/it]\n",
      "                 Class     Images  Instances      Box(P          R      mAP50  mAP50-95): 100%|██████████| 21/21 [01:38<00:00,  4.69s/it]"
     ]
    },
    {
     "name": "stdout",
     "output_type": "stream",
     "text": [
      "                   all        646       5655        0.8      0.514      0.585      0.317\n"
     ]
    },
    {
     "name": "stderr",
     "output_type": "stream",
     "text": [
      "\n"
     ]
    },
    {
     "name": "stdout",
     "output_type": "stream",
     "text": [
      "\n",
      "      Epoch    GPU_mem   box_loss   cls_loss   dfl_loss  Instances       Size\n"
     ]
    },
    {
     "name": "stderr",
     "output_type": "stream",
     "text": [
      "      13/25         0G      1.583      1.082      1.099        144        512: 100%|██████████| 162/162 [19:35<00:00,  7.26s/it]\n",
      "                 Class     Images  Instances      Box(P          R      mAP50  mAP50-95): 100%|██████████| 21/21 [01:39<00:00,  4.72s/it]"
     ]
    },
    {
     "name": "stdout",
     "output_type": "stream",
     "text": [
      "                   all        646       5655      0.806      0.522      0.585      0.315\n"
     ]
    },
    {
     "name": "stderr",
     "output_type": "stream",
     "text": [
      "\n"
     ]
    },
    {
     "name": "stdout",
     "output_type": "stream",
     "text": [
      "\n",
      "      Epoch    GPU_mem   box_loss   cls_loss   dfl_loss  Instances       Size\n"
     ]
    },
    {
     "name": "stderr",
     "output_type": "stream",
     "text": [
      "      14/25         0G      1.583      1.068        1.1        122        512: 100%|██████████| 162/162 [19:30<00:00,  7.22s/it]\n",
      "                 Class     Images  Instances      Box(P          R      mAP50  mAP50-95): 100%|██████████| 21/21 [01:38<00:00,  4.68s/it]"
     ]
    },
    {
     "name": "stdout",
     "output_type": "stream",
     "text": [
      "                   all        646       5655        0.8      0.522      0.684      0.402\n"
     ]
    },
    {
     "name": "stderr",
     "output_type": "stream",
     "text": [
      "\n"
     ]
    },
    {
     "name": "stdout",
     "output_type": "stream",
     "text": [
      "\n",
      "      Epoch    GPU_mem   box_loss   cls_loss   dfl_loss  Instances       Size\n"
     ]
    },
    {
     "name": "stderr",
     "output_type": "stream",
     "text": [
      "      15/25         0G      1.559      1.056      1.095        190        512: 100%|██████████| 162/162 [19:29<00:00,  7.22s/it]\n",
      "                 Class     Images  Instances      Box(P          R      mAP50  mAP50-95): 100%|██████████| 21/21 [01:38<00:00,  4.67s/it]"
     ]
    },
    {
     "name": "stdout",
     "output_type": "stream",
     "text": [
      "                   all        646       5655      0.699      0.581       0.68      0.349\n"
     ]
    },
    {
     "name": "stderr",
     "output_type": "stream",
     "text": [
      "\n"
     ]
    },
    {
     "name": "stdout",
     "output_type": "stream",
     "text": [
      "Closing dataloader mosaic\n",
      "\u001b[34m\u001b[1malbumentations: \u001b[0mBlur(p=0.01, blur_limit=(3, 7)), MedianBlur(p=0.01, blur_limit=(3, 7)), ToGray(p=0.01), CLAHE(p=0.01, clip_limit=(1, 4.0), tile_grid_size=(8, 8))\n",
      "\n",
      "      Epoch    GPU_mem   box_loss   cls_loss   dfl_loss  Instances       Size\n"
     ]
    },
    {
     "name": "stderr",
     "output_type": "stream",
     "text": [
      "      16/25         0G       1.55      1.047      1.106         93        512: 100%|██████████| 162/162 [19:18<00:00,  7.15s/it]\n",
      "                 Class     Images  Instances      Box(P          R      mAP50  mAP50-95): 100%|██████████| 21/21 [01:41<00:00,  4.85s/it]"
     ]
    },
    {
     "name": "stdout",
     "output_type": "stream",
     "text": [
      "                   all        646       5655       0.81      0.515      0.631      0.334\n"
     ]
    },
    {
     "name": "stderr",
     "output_type": "stream",
     "text": [
      "\n"
     ]
    },
    {
     "name": "stdout",
     "output_type": "stream",
     "text": [
      "\n",
      "      Epoch    GPU_mem   box_loss   cls_loss   dfl_loss  Instances       Size\n"
     ]
    },
    {
     "name": "stderr",
     "output_type": "stream",
     "text": [
      "      17/25         0G      1.536      1.008      1.098         23        512: 100%|██████████| 162/162 [19:01<00:00,  7.05s/it]\n",
      "                 Class     Images  Instances      Box(P          R      mAP50  mAP50-95): 100%|██████████| 21/21 [01:38<00:00,  4.68s/it]"
     ]
    },
    {
     "name": "stdout",
     "output_type": "stream",
     "text": [
      "                   all        646       5655      0.615      0.527      0.589      0.318\n"
     ]
    },
    {
     "name": "stderr",
     "output_type": "stream",
     "text": [
      "\n"
     ]
    },
    {
     "name": "stdout",
     "output_type": "stream",
     "text": [
      "\n",
      "      Epoch    GPU_mem   box_loss   cls_loss   dfl_loss  Instances       Size\n"
     ]
    },
    {
     "name": "stderr",
     "output_type": "stream",
     "text": [
      "      18/25         0G      1.527     0.9929      1.094         64        512: 100%|██████████| 162/162 [18:56<00:00,  7.02s/it]\n",
      "                 Class     Images  Instances      Box(P          R      mAP50  mAP50-95): 100%|██████████| 21/21 [01:37<00:00,  4.66s/it]"
     ]
    },
    {
     "name": "stdout",
     "output_type": "stream",
     "text": [
      "                   all        646       5655      0.822      0.519       0.59      0.322\n"
     ]
    },
    {
     "name": "stderr",
     "output_type": "stream",
     "text": [
      "\n"
     ]
    },
    {
     "name": "stdout",
     "output_type": "stream",
     "text": [
      "\n",
      "      Epoch    GPU_mem   box_loss   cls_loss   dfl_loss  Instances       Size\n"
     ]
    },
    {
     "name": "stderr",
     "output_type": "stream",
     "text": [
      "      19/25         0G      1.508      0.961      1.087         90        512: 100%|██████████| 162/162 [18:57<00:00,  7.02s/it]\n",
      "                 Class     Images  Instances      Box(P          R      mAP50  mAP50-95): 100%|██████████| 21/21 [01:38<00:00,  4.68s/it]"
     ]
    },
    {
     "name": "stdout",
     "output_type": "stream",
     "text": [
      "                   all        646       5655      0.833      0.529      0.594      0.327\n"
     ]
    },
    {
     "name": "stderr",
     "output_type": "stream",
     "text": [
      "\n"
     ]
    },
    {
     "name": "stdout",
     "output_type": "stream",
     "text": [
      "\n",
      "      Epoch    GPU_mem   box_loss   cls_loss   dfl_loss  Instances       Size\n"
     ]
    },
    {
     "name": "stderr",
     "output_type": "stream",
     "text": [
      "      20/25         0G      1.501     0.9493      1.081         96        512: 100%|██████████| 162/162 [18:57<00:00,  7.02s/it]\n",
      "                 Class     Images  Instances      Box(P          R      mAP50  mAP50-95): 100%|██████████| 21/21 [01:38<00:00,  4.70s/it]"
     ]
    },
    {
     "name": "stdout",
     "output_type": "stream",
     "text": [
      "                   all        646       5655      0.646      0.669      0.655      0.361\n"
     ]
    },
    {
     "name": "stderr",
     "output_type": "stream",
     "text": [
      "\n"
     ]
    },
    {
     "name": "stdout",
     "output_type": "stream",
     "text": [
      "\n",
      "      Epoch    GPU_mem   box_loss   cls_loss   dfl_loss  Instances       Size\n"
     ]
    },
    {
     "name": "stderr",
     "output_type": "stream",
     "text": [
      "      21/25         0G      1.491     0.9255      1.076         63        512: 100%|██████████| 162/162 [18:57<00:00,  7.02s/it]\n",
      "                 Class     Images  Instances      Box(P          R      mAP50  mAP50-95): 100%|██████████| 21/21 [01:38<00:00,  4.67s/it]"
     ]
    },
    {
     "name": "stdout",
     "output_type": "stream",
     "text": [
      "                   all        646       5655      0.825      0.542      0.634      0.355\n"
     ]
    },
    {
     "name": "stderr",
     "output_type": "stream",
     "text": [
      "\n"
     ]
    },
    {
     "name": "stdout",
     "output_type": "stream",
     "text": [
      "\n",
      "      Epoch    GPU_mem   box_loss   cls_loss   dfl_loss  Instances       Size\n"
     ]
    },
    {
     "name": "stderr",
     "output_type": "stream",
     "text": [
      "      22/25         0G       1.47     0.9085      1.071         58        512: 100%|██████████| 162/162 [19:01<00:00,  7.05s/it]\n",
      "                 Class     Images  Instances      Box(P          R      mAP50  mAP50-95): 100%|██████████| 21/21 [01:38<00:00,  4.69s/it]"
     ]
    },
    {
     "name": "stdout",
     "output_type": "stream",
     "text": [
      "                   all        646       5655      0.632      0.552       0.62      0.346\n"
     ]
    },
    {
     "name": "stderr",
     "output_type": "stream",
     "text": [
      "\n"
     ]
    },
    {
     "name": "stdout",
     "output_type": "stream",
     "text": [
      "\n",
      "      Epoch    GPU_mem   box_loss   cls_loss   dfl_loss  Instances       Size\n"
     ]
    },
    {
     "name": "stderr",
     "output_type": "stream",
     "text": [
      "      23/25         0G      1.454     0.8925      1.067         61        512: 100%|██████████| 162/162 [19:00<00:00,  7.04s/it]\n",
      "                 Class     Images  Instances      Box(P          R      mAP50  mAP50-95): 100%|██████████| 21/21 [01:38<00:00,  4.68s/it]"
     ]
    },
    {
     "name": "stdout",
     "output_type": "stream",
     "text": [
      "                   all        646       5655      0.838      0.545      0.622       0.35\n"
     ]
    },
    {
     "name": "stderr",
     "output_type": "stream",
     "text": [
      "\n"
     ]
    },
    {
     "name": "stdout",
     "output_type": "stream",
     "text": [
      "\n",
      "      Epoch    GPU_mem   box_loss   cls_loss   dfl_loss  Instances       Size\n"
     ]
    },
    {
     "name": "stderr",
     "output_type": "stream",
     "text": [
      "      24/25         0G      1.448     0.8789      1.063         48        512: 100%|██████████| 162/162 [18:56<00:00,  7.02s/it]\n",
      "                 Class     Images  Instances      Box(P          R      mAP50  mAP50-95): 100%|██████████| 21/21 [01:38<00:00,  4.68s/it]"
     ]
    },
    {
     "name": "stdout",
     "output_type": "stream",
     "text": [
      "                   all        646       5655       0.81      0.562      0.719      0.434\n"
     ]
    },
    {
     "name": "stderr",
     "output_type": "stream",
     "text": [
      "\n"
     ]
    },
    {
     "name": "stdout",
     "output_type": "stream",
     "text": [
      "\n",
      "      Epoch    GPU_mem   box_loss   cls_loss   dfl_loss  Instances       Size\n"
     ]
    },
    {
     "name": "stderr",
     "output_type": "stream",
     "text": [
      "      25/25         0G      1.432     0.8601      1.057         51        512: 100%|██████████| 162/162 [18:57<00:00,  7.02s/it]\n",
      "                 Class     Images  Instances      Box(P          R      mAP50  mAP50-95): 100%|██████████| 21/21 [01:38<00:00,  4.68s/it]"
     ]
    },
    {
     "name": "stdout",
     "output_type": "stream",
     "text": [
      "                   all        646       5655      0.829      0.625      0.723      0.441\n"
     ]
    },
    {
     "name": "stderr",
     "output_type": "stream",
     "text": [
      "\n"
     ]
    },
    {
     "name": "stdout",
     "output_type": "stream",
     "text": [
      "\n",
      "25 epochs completed in 9.870 hours.\n",
      "Optimizer stripped from runs\\detect\\ppe_css_25_epochs\\weights\\last.pt, 6.2MB\n",
      "Optimizer stripped from runs\\detect\\ppe_css_25_epochs\\weights\\best.pt, 6.2MB\n",
      "\n",
      "Validating runs\\detect\\ppe_css_25_epochs\\weights\\best.pt...\n",
      "Ultralytics YOLOv8.2.49  Python-3.11.3 torch-2.3.1+cpu CPU (11th Gen Intel Core(TM) i5-11320H 3.20GHz)\n",
      "Model summary (fused): 168 layers, 3006623 parameters, 0 gradients, 8.1 GFLOPs\n"
     ]
    },
    {
     "name": "stderr",
     "output_type": "stream",
     "text": [
      "                 Class     Images  Instances      Box(P          R      mAP50  mAP50-95): 100%|██████████| 21/21 [01:16<00:00,  3.65s/it]\n"
     ]
    },
    {
     "name": "stdout",
     "output_type": "stream",
     "text": [
      "                   all        646       5655      0.832      0.624      0.723      0.441\n",
      "               echinus        465       2541      0.888      0.776      0.882      0.498\n",
      "              starfish        283        810      0.875        0.7      0.824      0.479\n",
      "           holothurian        288        834      0.806      0.525      0.652      0.336\n",
      "               scallop        221       1468       0.83      0.617      0.761      0.445\n",
      "            waterweeds          2          2      0.762        0.5      0.497      0.448\n",
      "Speed: 1.5ms preprocess, 80.3ms inference, 0.0ms loss, 0.5ms postprocess per image\n",
      "Results saved to \u001b[1mruns\\detect\\ppe_css_25_epochs\u001b[0m\n"
     ]
    }
   ],
   "source": [
    "results = model.train(\n",
    "    data=os.path.join(CFG.OUTPUT_DIR, 'data.yaml'),\n",
    "    epochs=CFG.EPOCHS,\n",
    "    batch=CFG.BATCH_SIZE,\n",
    "    optimizer=CFG.OPTIMIZER,\n",
    "    lr0=CFG.LR,\n",
    "    lrf=CFG.LR_FACTOR,\n",
    "    imgsz=(img_properties['height'], img_properties['width']),\n",
    "    seed=CFG.SEED,\n",
    "    \n",
    "    workers=4,\n",
    "    name=CFG.EXP_NAME,\n",
    "   \n",
    ")\n"
   ]
  },
  {
   "cell_type": "code",
   "execution_count": 50,
   "metadata": {},
   "outputs": [
    {
     "data": {
      "image/png": "[encoded data removed]",
      "text/plain": [
       "<Figure size 1500x1500 with 10 Axes>"
      ]
     },
     "metadata": {},
     "output_type": "display_data"
    }
   ],
   "source": [
    "%matplotlib inline\n",
    "# read in the results.csv file as a pandas dataframe\n",
    "df = pd.read_csv('D:/summer_intern/Dataset/UTDAC2020/UTDAC2020/runs/detect/ppe_css_25_epochs/results.csv')\n",
    "df.columns = df.columns.str.strip()\n",
    "\n",
    "# create subplots using seaborn\n",
    "fig, axs = plt.subplots(nrows=5, ncols=2, figsize=(15, 15))\n",
    "\n",
    "# plot the columns using seaborn\n",
    "sns.lineplot(x='epoch', y='train/box_loss', data=df, ax=axs[0,0])\n",
    "sns.lineplot(x='epoch', y='train/cls_loss', data=df, ax=axs[0,1])\n",
    "sns.lineplot(x='epoch', y='train/dfl_loss', data=df, ax=axs[1,0])\n",
    "sns.lineplot(x='epoch', y='metrics/precision(B)', data=df, ax=axs[1,1])\n",
    "sns.lineplot(x='epoch', y='metrics/recall(B)', data=df, ax=axs[2,0])\n",
    "sns.lineplot(x='epoch', y='metrics/mAP50(B)', data=df, ax=axs[2,1])\n",
    "sns.lineplot(x='epoch', y='metrics/mAP50-95(B)', data=df, ax=axs[3,0])\n",
    "sns.lineplot(x='epoch', y='val/box_loss', data=df, ax=axs[3,1])\n",
    "sns.lineplot(x='epoch', y='val/cls_loss', data=df, ax=axs[4,0])\n",
    "sns.lineplot(x='epoch', y='val/dfl_loss', data=df, ax=axs[4,1])\n",
    "\n",
    "# set titles and axis labels for each subplot\n",
    "axs[0,0].set(title='Train Box Loss')\n",
    "axs[0,1].set(title='Train Class Loss')\n",
    "axs[1,0].set(title='Train DFL Loss')\n",
    "axs[1,1].set(title='Metrics Precision (B)')\n",
    "axs[2,0].set(title='Metrics Recall (B)')\n",
    "axs[2,1].set(title='Metrics mAP50 (B)')\n",
    "axs[3,0].set(title='Metrics mAP50-95 (B)')\n",
    "axs[3,1].set(title='Validation Box Loss')\n",
    "axs[4,0].set(title='Validation Class Loss')\n",
    "axs[4,1].set(title='Validation DFL Loss')\n",
    "\n",
    "# add suptitle and subheader\n",
    "plt.suptitle('Training Metrics and Loss', fontsize=24)\n",
    "\n",
    "# adjust top margin to make space for suptitle\n",
    "plt.subplots_adjust(top=0.8)\n",
    "\n",
    "# adjust spacing between subplots\n",
    "plt.tight_layout()\n",
    "\n",
    "plt.show()"
   ]
  },
  {
   "cell_type": "code",
   "execution_count": 51,
   "metadata": {},
   "outputs": [
    {
     "name": "stdout",
     "output_type": "stream",
     "text": [
      "Ultralytics YOLOv8.2.49  Python-3.11.3 torch-2.3.1+cpu CPU (11th Gen Intel Core(TM) i5-11320H 3.20GHz)\n",
      "\u001b[34m\u001b[1mengine\\trainer: \u001b[0mtask=detect, mode=train, model=D:/summer_intern/Dataset/UTDAC2020/UTDAC2020/runs/detect/ppe_css_25_epochs/weights/best.pt, data=D:/summer_intern/Dataset/UTDAC2020/UTDAC2020\\data.yaml, epochs=25, time=None, patience=100, batch=16, imgsz=(500, 500), save=True, save_period=-1, cache=False, device=None, workers=4, project=None, name=ppe_css_25_epochs2, exist_ok=False, pretrained=True, optimizer=auto, verbose=True, seed=1, deterministic=True, single_cls=False, rect=False, cos_lr=False, close_mosaic=10, resume=False, amp=True, fraction=1.0, profile=False, freeze=None, multi_scale=False, overlap_mask=True, mask_ratio=4, dropout=0.0, val=True, split=val, save_json=False, save_hybrid=False, conf=None, iou=0.7, max_det=300, half=False, dnn=False, plots=True, source=None, vid_stride=1, stream_buffer=False, visualize=False, augment=False, agnostic_nms=False, classes=None, retina_masks=False, embed=None, show=False, save_frames=False, save_txt=False, save_conf=False, save_crop=False, show_labels=True, show_conf=True, show_boxes=True, line_width=None, format=torchscript, keras=False, optimize=False, int8=False, dynamic=False, simplify=False, opset=None, workspace=4, nms=False, lr0=0.001, lrf=0.01, momentum=0.937, weight_decay=0.0005, warmup_epochs=3.0, warmup_momentum=0.8, warmup_bias_lr=0.1, box=7.5, cls=0.5, dfl=1.5, pose=12.0, kobj=1.0, label_smoothing=0.0, nbs=64, hsv_h=0.015, hsv_s=0.7, hsv_v=0.4, degrees=0.0, translate=0.1, scale=0.5, shear=0.0, perspective=0.0, flipud=0.0, fliplr=0.5, bgr=0.0, mosaic=1.0, mixup=0.0, copy_paste=0.0, auto_augment=randaugment, erasing=0.4, crop_fraction=1.0, cfg=None, tracker=botsort.yaml, save_dir=runs\\detect\\ppe_css_25_epochs2\n",
      "\n",
      "                   from  n    params  module                                       arguments                     \n",
      "  0                  -1  1       464  ultralytics.nn.modules.conv.Conv             [3, 16, 3, 2]                 \n",
      "  1                  -1  1      4672  ultralytics.nn.modules.conv.Conv             [16, 32, 3, 2]                \n",
      "  2                  -1  1      7360  ultralytics.nn.modules.block.C2f             [32, 32, 1, True]             \n",
      "  3                  -1  1     18560  ultralytics.nn.modules.conv.Conv             [32, 64, 3, 2]                \n",
      "  4                  -1  2     49664  ultralytics.nn.modules.block.C2f             [64, 64, 2, True]             \n",
      "  5                  -1  1     73984  ultralytics.nn.modules.conv.Conv             [64, 128, 3, 2]               \n",
      "  6                  -1  2    197632  ultralytics.nn.modules.block.C2f             [128, 128, 2, True]           \n",
      "  7                  -1  1    295424  ultralytics.nn.modules.conv.Conv             [128, 256, 3, 2]              \n",
      "  8                  -1  1    460288  ultralytics.nn.modules.block.C2f             [256, 256, 1, True]           \n",
      "  9                  -1  1    164608  ultralytics.nn.modules.block.SPPF            [256, 256, 5]                 \n",
      " 10                  -1  1         0  torch.nn.modules.upsampling.Upsample         [None, 2, 'nearest']          \n",
      " 11             [-1, 6]  1         0  ultralytics.nn.modules.conv.Concat           [1]                           \n",
      " 12                  -1  1    148224  ultralytics.nn.modules.block.C2f             [384, 128, 1]                 \n",
      " 13                  -1  1         0  torch.nn.modules.upsampling.Upsample         [None, 2, 'nearest']          \n",
      " 14             [-1, 4]  1         0  ultralytics.nn.modules.conv.Concat           [1]                           \n",
      " 15                  -1  1     37248  ultralytics.nn.modules.block.C2f             [192, 64, 1]                  \n",
      " 16                  -1  1     36992  ultralytics.nn.modules.conv.Conv             [64, 64, 3, 2]                \n",
      " 17            [-1, 12]  1         0  ultralytics.nn.modules.conv.Concat           [1]                           \n",
      " 18                  -1  1    123648  ultralytics.nn.modules.block.C2f             [192, 128, 1]                 \n",
      " 19                  -1  1    147712  ultralytics.nn.modules.conv.Conv             [128, 128, 3, 2]              \n",
      " 20             [-1, 9]  1         0  ultralytics.nn.modules.conv.Concat           [1]                           \n",
      " 21                  -1  1    493056  ultralytics.nn.modules.block.C2f             [384, 256, 1]                 \n",
      " 22        [15, 18, 21]  1    752287  ultralytics.nn.modules.head.Detect           [5, [64, 128, 256]]           \n",
      "Model summary: 225 layers, 3011823 parameters, 3011807 gradients, 8.2 GFLOPs\n",
      "\n",
      "Transferred 355/355 items from pretrained weights\n",
      "\u001b[34m\u001b[1mTensorBoard: \u001b[0mStart with 'tensorboard --logdir runs\\detect\\ppe_css_25_epochs2', view at http://localhost:6006/\n",
      "Freezing layer 'model.22.dfl.conv.weight'\n",
      "WARNING  updating to 'imgsz=500'. 'train' and 'val' imgsz must be an integer, while 'predict' and 'export' imgsz may be a [h, w] list or an integer, i.e. 'yolo export imgsz=640,480' or 'yolo export imgsz=640'\n",
      "WARNING  imgsz=[500] must be multiple of max stride 32, updating to [512]\n"
     ]
    },
    {
     "name": "stderr",
     "output_type": "stream",
     "text": [
      "\u001b[34m\u001b[1mtrain: \u001b[0mScanning D:\\summer_intern\\Dataset\\UTDAC2020\\UTDAC2020\\train\\labels.cache... 2584 images, 0 backgrounds, 0 corrupt: 100%|██████████| 2584/2584 [00:00<?, ?it/s]"
     ]
    },
    {
     "name": "stdout",
     "output_type": "stream",
     "text": [
      "\u001b[34m\u001b[1mtrain: \u001b[0mWARNING  D:\\summer_intern\\Dataset\\UTDAC2020\\UTDAC2020\\train\\images\\000508.jpg: 1 duplicate labels removed\n"
     ]
    },
    {
     "name": "stderr",
     "output_type": "stream",
     "text": [
      "\n"
     ]
    },
    {
     "name": "stdout",
     "output_type": "stream",
     "text": [
      "\u001b[34m\u001b[1malbumentations: \u001b[0mBlur(p=0.01, blur_limit=(3, 7)), MedianBlur(p=0.01, blur_limit=(3, 7)), ToGray(p=0.01), CLAHE(p=0.01, clip_limit=(1, 4.0), tile_grid_size=(8, 8))\n"
     ]
    },
    {
     "name": "stderr",
     "output_type": "stream",
     "text": [
      "\u001b[34m\u001b[1mval: \u001b[0mScanning D:\\summer_intern\\Dataset\\UTDAC2020\\UTDAC2020\\val\\labels.cache... 646 images, 0 backgrounds, 0 corrupt: 100%|██████████| 646/646 [00:00<?, ?it/s]"
     ]
    },
    {
     "name": "stdout",
     "output_type": "stream",
     "text": [
      "Plotting labels to runs\\detect\\ppe_css_25_epochs2\\labels.jpg... \n"
     ]
    },
    {
     "name": "stderr",
     "output_type": "stream",
     "text": [
      "\n"
     ]
    },
    {
     "name": "stdout",
     "output_type": "stream",
     "text": [
      "\u001b[34m\u001b[1moptimizer:\u001b[0m 'optimizer=auto' found, ignoring 'lr0=0.001' and 'momentum=0.937' and determining best 'optimizer', 'lr0' and 'momentum' automatically... \n",
      "\u001b[34m\u001b[1moptimizer:\u001b[0m AdamW(lr=0.001111, momentum=0.9) with parameter groups 57 weight(decay=0.0), 64 weight(decay=0.0005), 63 bias(decay=0.0)\n",
      "\u001b[34m\u001b[1mTensorBoard: \u001b[0mmodel graph visualization added \n",
      "Image sizes 512 train, 512 val\n",
      "Using 0 dataloader workers\n",
      "Logging results to \u001b[1mruns\\detect\\ppe_css_25_epochs2\u001b[0m\n",
      "Starting training for 25 epochs...\n",
      "\n",
      "      Epoch    GPU_mem   box_loss   cls_loss   dfl_loss  Instances       Size\n"
     ]
    },
    {
     "name": "stderr",
     "output_type": "stream",
     "text": [
      "       1/25         0G      1.512     0.9698      1.072        127        512: 100%|██████████| 162/162 [33:34<00:00, 12.44s/it]\n",
      "                 Class     Images  Instances      Box(P          R      mAP50  mAP50-95): 100%|██████████| 21/21 [03:27<00:00,  9.87s/it]"
     ]
    },
    {
     "name": "stdout",
     "output_type": "stream",
     "text": [
      "                   all        646       5655      0.814      0.541      0.597      0.318\n"
     ]
    },
    {
     "name": "stderr",
     "output_type": "stream",
     "text": [
      "\n"
     ]
    },
    {
     "name": "stdout",
     "output_type": "stream",
     "text": [
      "\n",
      "      Epoch    GPU_mem   box_loss   cls_loss   dfl_loss  Instances       Size\n"
     ]
    },
    {
     "name": "stderr",
     "output_type": "stream",
     "text": [
      "       2/25         0G      1.548      1.012      1.083         77        512: 100%|██████████| 162/162 [33:29<00:00, 12.40s/it]\n",
      "                 Class     Images  Instances      Box(P          R      mAP50  mAP50-95): 100%|██████████| 21/21 [03:13<00:00,  9.21s/it]"
     ]
    },
    {
     "name": "stdout",
     "output_type": "stream",
     "text": [
      "                   all        646       5655       0.78      0.517      0.566      0.291\n"
     ]
    },
    {
     "name": "stderr",
     "output_type": "stream",
     "text": [
      "\n"
     ]
    },
    {
     "name": "stdout",
     "output_type": "stream",
     "text": [
      "\n",
      "      Epoch    GPU_mem   box_loss   cls_loss   dfl_loss  Instances       Size\n"
     ]
    },
    {
     "name": "stderr",
     "output_type": "stream",
     "text": [
      "       3/25         0G       1.58      1.057        1.1        138        512: 100%|██████████| 162/162 [33:26<00:00, 12.39s/it]\n",
      "                 Class     Images  Instances      Box(P          R      mAP50  mAP50-95): 100%|██████████| 21/21 [02:59<00:00,  8.53s/it]"
     ]
    },
    {
     "name": "stdout",
     "output_type": "stream",
     "text": [
      "                   all        646       5655       0.78      0.526      0.576      0.303\n"
     ]
    },
    {
     "name": "stderr",
     "output_type": "stream",
     "text": [
      "\n"
     ]
    },
    {
     "name": "stdout",
     "output_type": "stream",
     "text": [
      "\n",
      "      Epoch    GPU_mem   box_loss   cls_loss   dfl_loss  Instances       Size\n"
     ]
    },
    {
     "name": "stderr",
     "output_type": "stream",
     "text": [
      "       4/25         0G      1.574      1.043      1.097         99        512: 100%|██████████| 162/162 [19:55<00:00,  7.38s/it]\n",
      "                 Class     Images  Instances      Box(P          R      mAP50  mAP50-95): 100%|██████████| 21/21 [01:40<00:00,  4.77s/it]"
     ]
    },
    {
     "name": "stdout",
     "output_type": "stream",
     "text": [
      "                   all        646       5655      0.785      0.512      0.566      0.293\n"
     ]
    },
    {
     "name": "stderr",
     "output_type": "stream",
     "text": [
      "\n"
     ]
    },
    {
     "name": "stdout",
     "output_type": "stream",
     "text": [
      "\n",
      "      Epoch    GPU_mem   box_loss   cls_loss   dfl_loss  Instances       Size\n"
     ]
    },
    {
     "name": "stderr",
     "output_type": "stream",
     "text": [
      "       5/25         0G      1.585      1.043      1.099        100        512: 100%|██████████| 162/162 [19:49<00:00,  7.34s/it]\n",
      "                 Class     Images  Instances      Box(P          R      mAP50  mAP50-95): 100%|██████████| 21/21 [01:39<00:00,  4.73s/it]"
     ]
    },
    {
     "name": "stdout",
     "output_type": "stream",
     "text": [
      "                   all        646       5655      0.792      0.519      0.589      0.312\n"
     ]
    },
    {
     "name": "stderr",
     "output_type": "stream",
     "text": [
      "\n"
     ]
    },
    {
     "name": "stdout",
     "output_type": "stream",
     "text": [
      "\n",
      "      Epoch    GPU_mem   box_loss   cls_loss   dfl_loss  Instances       Size\n"
     ]
    },
    {
     "name": "stderr",
     "output_type": "stream",
     "text": [
      "       6/25         0G       1.55      1.012      1.091        123        512: 100%|██████████| 162/162 [19:49<00:00,  7.34s/it]\n",
      "                 Class     Images  Instances      Box(P          R      mAP50  mAP50-95): 100%|██████████| 21/21 [01:39<00:00,  4.73s/it]"
     ]
    },
    {
     "name": "stdout",
     "output_type": "stream",
     "text": [
      "                   all        646       5655      0.805      0.525      0.618      0.315\n"
     ]
    },
    {
     "name": "stderr",
     "output_type": "stream",
     "text": [
      "\n"
     ]
    },
    {
     "name": "stdout",
     "output_type": "stream",
     "text": [
      "\n",
      "      Epoch    GPU_mem   box_loss   cls_loss   dfl_loss  Instances       Size\n"
     ]
    },
    {
     "name": "stderr",
     "output_type": "stream",
     "text": [
      "       7/25         0G      1.563      1.015      1.089        111        512: 100%|██████████| 162/162 [19:50<00:00,  7.35s/it]\n",
      "                 Class     Images  Instances      Box(P          R      mAP50  mAP50-95): 100%|██████████| 21/21 [01:39<00:00,  4.73s/it]"
     ]
    },
    {
     "name": "stdout",
     "output_type": "stream",
     "text": [
      "                   all        646       5655      0.815      0.526       0.69      0.369\n"
     ]
    },
    {
     "name": "stderr",
     "output_type": "stream",
     "text": [
      "\n"
     ]
    },
    {
     "name": "stdout",
     "output_type": "stream",
     "text": [
      "\n",
      "      Epoch    GPU_mem   box_loss   cls_loss   dfl_loss  Instances       Size\n"
     ]
    },
    {
     "name": "stderr",
     "output_type": "stream",
     "text": [
      "       8/25         0G      1.545     0.9977      1.082        104        512: 100%|██████████| 162/162 [19:47<00:00,  7.33s/it]\n",
      "                 Class     Images  Instances      Box(P          R      mAP50  mAP50-95): 100%|██████████| 21/21 [01:39<00:00,  4.73s/it]"
     ]
    },
    {
     "name": "stdout",
     "output_type": "stream",
     "text": [
      "                   all        646       5655       0.81      0.527      0.594      0.312\n"
     ]
    },
    {
     "name": "stderr",
     "output_type": "stream",
     "text": [
      "\n"
     ]
    },
    {
     "name": "stdout",
     "output_type": "stream",
     "text": [
      "\n",
      "      Epoch    GPU_mem   box_loss   cls_loss   dfl_loss  Instances       Size\n"
     ]
    },
    {
     "name": "stderr",
     "output_type": "stream",
     "text": [
      "       9/25         0G      1.544     0.9873      1.081        137        512: 100%|██████████| 162/162 [19:54<00:00,  7.37s/it]\n",
      "                 Class     Images  Instances      Box(P          R      mAP50  mAP50-95): 100%|██████████| 21/21 [01:39<00:00,  4.76s/it]"
     ]
    },
    {
     "name": "stdout",
     "output_type": "stream",
     "text": [
      "                   all        646       5655      0.626      0.663      0.692      0.333\n"
     ]
    },
    {
     "name": "stderr",
     "output_type": "stream",
     "text": [
      "\n"
     ]
    },
    {
     "name": "stdout",
     "output_type": "stream",
     "text": [
      "\n",
      "      Epoch    GPU_mem   box_loss   cls_loss   dfl_loss  Instances       Size\n"
     ]
    },
    {
     "name": "stderr",
     "output_type": "stream",
     "text": [
      "      10/25         0G      1.513     0.9611      1.079        139        512: 100%|██████████| 162/162 [19:45<00:00,  7.32s/it]\n",
      "                 Class     Images  Instances      Box(P          R      mAP50  mAP50-95): 100%|██████████| 21/21 [01:39<00:00,  4.73s/it]"
     ]
    },
    {
     "name": "stdout",
     "output_type": "stream",
     "text": [
      "                   all        646       5655      0.688        0.6      0.643       0.33\n"
     ]
    },
    {
     "name": "stderr",
     "output_type": "stream",
     "text": [
      "\n"
     ]
    },
    {
     "name": "stdout",
     "output_type": "stream",
     "text": [
      "\n",
      "      Epoch    GPU_mem   box_loss   cls_loss   dfl_loss  Instances       Size\n"
     ]
    },
    {
     "name": "stderr",
     "output_type": "stream",
     "text": [
      "      11/25         0G      1.514     0.9627      1.075        194        512: 100%|██████████| 162/162 [19:50<00:00,  7.35s/it]\n",
      "                 Class     Images  Instances      Box(P          R      mAP50  mAP50-95): 100%|██████████| 21/21 [01:38<00:00,  4.70s/it]"
     ]
    },
    {
     "name": "stdout",
     "output_type": "stream",
     "text": [
      "                   all        646       5655      0.813      0.536      0.615      0.333\n"
     ]
    },
    {
     "name": "stderr",
     "output_type": "stream",
     "text": [
      "\n"
     ]
    },
    {
     "name": "stdout",
     "output_type": "stream",
     "text": [
      "\n",
      "      Epoch    GPU_mem   box_loss   cls_loss   dfl_loss  Instances       Size\n"
     ]
    },
    {
     "name": "stderr",
     "output_type": "stream",
     "text": [
      "      12/25         0G      1.509     0.9479      1.071         80        512: 100%|██████████| 162/162 [27:37<00:00, 10.23s/it]\n",
      "                 Class     Images  Instances      Box(P          R      mAP50  mAP50-95): 100%|██████████| 21/21 [03:11<00:00,  9.13s/it]"
     ]
    },
    {
     "name": "stdout",
     "output_type": "stream",
     "text": [
      "                   all        646       5655      0.622      0.546      0.614      0.335\n"
     ]
    },
    {
     "name": "stderr",
     "output_type": "stream",
     "text": [
      "\n"
     ]
    },
    {
     "name": "stdout",
     "output_type": "stream",
     "text": [
      "\n",
      "      Epoch    GPU_mem   box_loss   cls_loss   dfl_loss  Instances       Size\n"
     ]
    },
    {
     "name": "stderr",
     "output_type": "stream",
     "text": [
      "      13/25         0G      1.494     0.9273      1.064        144        512: 100%|██████████| 162/162 [33:09<00:00, 12.28s/it]\n",
      "                 Class     Images  Instances      Box(P          R      mAP50  mAP50-95): 100%|██████████| 21/21 [02:43<00:00,  7.81s/it]"
     ]
    },
    {
     "name": "stdout",
     "output_type": "stream",
     "text": [
      "                   all        646       5655      0.831      0.545      0.615      0.332\n"
     ]
    },
    {
     "name": "stderr",
     "output_type": "stream",
     "text": [
      "\n"
     ]
    },
    {
     "name": "stdout",
     "output_type": "stream",
     "text": [
      "\n",
      "      Epoch    GPU_mem   box_loss   cls_loss   dfl_loss  Instances       Size\n"
     ]
    },
    {
     "name": "stderr",
     "output_type": "stream",
     "text": [
      "      14/25         0G      1.489     0.9219      1.064        122        512: 100%|██████████| 162/162 [31:33<00:00, 11.69s/it]\n",
      "                 Class     Images  Instances      Box(P          R      mAP50  mAP50-95): 100%|██████████| 21/21 [03:15<00:00,  9.30s/it]"
     ]
    },
    {
     "name": "stdout",
     "output_type": "stream",
     "text": [
      "                   all        646       5655       0.83      0.543      0.625       0.34\n"
     ]
    },
    {
     "name": "stderr",
     "output_type": "stream",
     "text": [
      "\n"
     ]
    },
    {
     "name": "stdout",
     "output_type": "stream",
     "text": [
      "\n",
      "      Epoch    GPU_mem   box_loss   cls_loss   dfl_loss  Instances       Size\n"
     ]
    },
    {
     "name": "stderr",
     "output_type": "stream",
     "text": [
      "      15/25         0G      1.465     0.9092      1.059        190        512: 100%|██████████| 162/162 [25:29<00:00,  9.44s/it]\n",
      "                 Class     Images  Instances      Box(P          R      mAP50  mAP50-95): 100%|██████████| 21/21 [01:39<00:00,  4.72s/it]"
     ]
    },
    {
     "name": "stdout",
     "output_type": "stream",
     "text": [
      "                   all        646       5655      0.818      0.557      0.624      0.335\n"
     ]
    },
    {
     "name": "stderr",
     "output_type": "stream",
     "text": [
      "\n"
     ]
    },
    {
     "name": "stdout",
     "output_type": "stream",
     "text": [
      "Closing dataloader mosaic\n",
      "\u001b[34m\u001b[1malbumentations: \u001b[0mBlur(p=0.01, blur_limit=(3, 7)), MedianBlur(p=0.01, blur_limit=(3, 7)), ToGray(p=0.01), CLAHE(p=0.01, clip_limit=(1, 4.0), tile_grid_size=(8, 8))\n",
      "\n",
      "      Epoch    GPU_mem   box_loss   cls_loss   dfl_loss  Instances       Size\n"
     ]
    },
    {
     "name": "stderr",
     "output_type": "stream",
     "text": [
      "      16/25         0G      1.456     0.8843      1.066         93        512: 100%|██████████| 162/162 [19:12<00:00,  7.11s/it]\n",
      "                 Class     Images  Instances      Box(P          R      mAP50  mAP50-95): 100%|██████████| 21/21 [01:39<00:00,  4.76s/it]"
     ]
    },
    {
     "name": "stdout",
     "output_type": "stream",
     "text": [
      "                   all        646       5655       0.82      0.542      0.627      0.337\n"
     ]
    },
    {
     "name": "stderr",
     "output_type": "stream",
     "text": [
      "\n"
     ]
    },
    {
     "name": "stdout",
     "output_type": "stream",
     "text": [
      "\n",
      "      Epoch    GPU_mem   box_loss   cls_loss   dfl_loss  Instances       Size\n"
     ]
    },
    {
     "name": "stderr",
     "output_type": "stream",
     "text": [
      "      17/25         0G      1.439     0.8531      1.061         23        512: 100%|██████████| 162/162 [19:22<00:00,  7.18s/it]\n",
      "                 Class     Images  Instances      Box(P          R      mAP50  mAP50-95): 100%|██████████| 21/21 [01:42<00:00,  4.88s/it]"
     ]
    },
    {
     "name": "stdout",
     "output_type": "stream",
     "text": [
      "                   all        646       5655      0.832      0.561      0.621      0.344\n"
     ]
    },
    {
     "name": "stderr",
     "output_type": "stream",
     "text": [
      "\n"
     ]
    },
    {
     "name": "stdout",
     "output_type": "stream",
     "text": [
      "\n",
      "      Epoch    GPU_mem   box_loss   cls_loss   dfl_loss  Instances       Size\n"
     ]
    },
    {
     "name": "stderr",
     "output_type": "stream",
     "text": [
      "      18/25         0G      1.425      0.843      1.055         64        512: 100%|██████████| 162/162 [19:14<00:00,  7.13s/it]\n",
      "                 Class     Images  Instances      Box(P          R      mAP50  mAP50-95): 100%|██████████| 21/21 [01:38<00:00,  4.68s/it]"
     ]
    },
    {
     "name": "stdout",
     "output_type": "stream",
     "text": [
      "                   all        646       5655      0.623      0.558      0.618      0.343\n"
     ]
    },
    {
     "name": "stderr",
     "output_type": "stream",
     "text": [
      "\n"
     ]
    },
    {
     "name": "stdout",
     "output_type": "stream",
     "text": [
      "\n",
      "      Epoch    GPU_mem   box_loss   cls_loss   dfl_loss  Instances       Size\n"
     ]
    },
    {
     "name": "stderr",
     "output_type": "stream",
     "text": [
      "      19/25         0G      1.416     0.8254      1.051         90        512: 100%|██████████| 162/162 [19:12<00:00,  7.11s/it]\n",
      "                 Class     Images  Instances      Box(P          R      mAP50  mAP50-95): 100%|██████████| 21/21 [01:37<00:00,  4.64s/it]"
     ]
    },
    {
     "name": "stdout",
     "output_type": "stream",
     "text": [
      "                   all        646       5655       0.83      0.559      0.622      0.348\n"
     ]
    },
    {
     "name": "stderr",
     "output_type": "stream",
     "text": [
      "\n"
     ]
    },
    {
     "name": "stdout",
     "output_type": "stream",
     "text": [
      "\n",
      "      Epoch    GPU_mem   box_loss   cls_loss   dfl_loss  Instances       Size\n"
     ]
    },
    {
     "name": "stderr",
     "output_type": "stream",
     "text": [
      "      20/25         0G      1.411     0.8203      1.046         96        512: 100%|██████████| 162/162 [19:11<00:00,  7.11s/it]\n",
      "                 Class     Images  Instances      Box(P          R      mAP50  mAP50-95): 100%|██████████| 21/21 [01:43<00:00,  4.92s/it]"
     ]
    },
    {
     "name": "stdout",
     "output_type": "stream",
     "text": [
      "                   all        646       5655       0.64      0.566      0.643      0.357\n"
     ]
    },
    {
     "name": "stderr",
     "output_type": "stream",
     "text": [
      "\n"
     ]
    },
    {
     "name": "stdout",
     "output_type": "stream",
     "text": [
      "\n",
      "      Epoch    GPU_mem   box_loss   cls_loss   dfl_loss  Instances       Size\n"
     ]
    },
    {
     "name": "stderr",
     "output_type": "stream",
     "text": [
      "      21/25         0G      1.394     0.8032      1.041         63        512: 100%|██████████| 162/162 [19:27<00:00,  7.20s/it]\n",
      "                 Class     Images  Instances      Box(P          R      mAP50  mAP50-95): 100%|██████████| 21/21 [01:38<00:00,  4.69s/it]"
     ]
    },
    {
     "name": "stdout",
     "output_type": "stream",
     "text": [
      "                   all        646       5655      0.837      0.563      0.632      0.352\n"
     ]
    },
    {
     "name": "stderr",
     "output_type": "stream",
     "text": [
      "\n"
     ]
    },
    {
     "name": "stdout",
     "output_type": "stream",
     "text": [
      "\n",
      "      Epoch    GPU_mem   box_loss   cls_loss   dfl_loss  Instances       Size\n"
     ]
    },
    {
     "name": "stderr",
     "output_type": "stream",
     "text": [
      "      22/25         0G      1.384     0.7909      1.039         58        512: 100%|██████████| 162/162 [19:07<00:00,  7.09s/it]\n",
      "                 Class     Images  Instances      Box(P          R      mAP50  mAP50-95): 100%|██████████| 21/21 [01:38<00:00,  4.67s/it]"
     ]
    },
    {
     "name": "stdout",
     "output_type": "stream",
     "text": [
      "                   all        646       5655       0.85      0.573      0.663      0.366\n"
     ]
    },
    {
     "name": "stderr",
     "output_type": "stream",
     "text": [
      "\n"
     ]
    },
    {
     "name": "stdout",
     "output_type": "stream",
     "text": [
      "\n",
      "      Epoch    GPU_mem   box_loss   cls_loss   dfl_loss  Instances       Size\n"
     ]
    },
    {
     "name": "stderr",
     "output_type": "stream",
     "text": [
      "      23/25         0G       1.37     0.7827      1.037         61        512: 100%|██████████| 162/162 [19:04<00:00,  7.07s/it]\n",
      "                 Class     Images  Instances      Box(P          R      mAP50  mAP50-95): 100%|██████████| 21/21 [01:37<00:00,  4.66s/it]"
     ]
    },
    {
     "name": "stdout",
     "output_type": "stream",
     "text": [
      "                   all        646       5655      0.848      0.571      0.651      0.365\n"
     ]
    },
    {
     "name": "stderr",
     "output_type": "stream",
     "text": [
      "\n"
     ]
    },
    {
     "name": "stdout",
     "output_type": "stream",
     "text": [
      "\n",
      "      Epoch    GPU_mem   box_loss   cls_loss   dfl_loss  Instances       Size\n"
     ]
    },
    {
     "name": "stderr",
     "output_type": "stream",
     "text": [
      "      24/25         0G      1.368     0.7736      1.035         48        512: 100%|██████████| 162/162 [19:09<00:00,  7.10s/it]\n",
      "                 Class     Images  Instances      Box(P          R      mAP50  mAP50-95): 100%|██████████| 21/21 [01:38<00:00,  4.67s/it]"
     ]
    },
    {
     "name": "stdout",
     "output_type": "stream",
     "text": [
      "                   all        646       5655       0.85      0.571      0.656      0.367\n"
     ]
    },
    {
     "name": "stderr",
     "output_type": "stream",
     "text": [
      "\n"
     ]
    },
    {
     "name": "stdout",
     "output_type": "stream",
     "text": [
      "\n",
      "      Epoch    GPU_mem   box_loss   cls_loss   dfl_loss  Instances       Size\n"
     ]
    },
    {
     "name": "stderr",
     "output_type": "stream",
     "text": [
      "      25/25         0G      1.356     0.7598       1.03         51        512: 100%|██████████| 162/162 [19:11<00:00,  7.11s/it]\n",
      "                 Class     Images  Instances      Box(P          R      mAP50  mAP50-95): 100%|██████████| 21/21 [01:37<00:00,  4.67s/it]"
     ]
    },
    {
     "name": "stdout",
     "output_type": "stream",
     "text": [
      "                   all        646       5655      0.862      0.565      0.652      0.368\n"
     ]
    },
    {
     "name": "stderr",
     "output_type": "stream",
     "text": [
      "\n"
     ]
    },
    {
     "name": "stdout",
     "output_type": "stream",
     "text": [
      "\n",
      "25 epochs completed in 10.333 hours.\n",
      "Optimizer stripped from runs\\detect\\ppe_css_25_epochs2\\weights\\last.pt, 6.2MB\n",
      "Optimizer stripped from runs\\detect\\ppe_css_25_epochs2\\weights\\best.pt, 6.2MB\n",
      "\n",
      "Validating runs\\detect\\ppe_css_25_epochs2\\weights\\best.pt...\n",
      "Ultralytics YOLOv8.2.49  Python-3.11.3 torch-2.3.1+cpu CPU (11th Gen Intel Core(TM) i5-11320H 3.20GHz)\n",
      "Model summary (fused): 168 layers, 3006623 parameters, 0 gradients, 8.1 GFLOPs\n"
     ]
    },
    {
     "name": "stderr",
     "output_type": "stream",
     "text": [
      "                 Class     Images  Instances      Box(P          R      mAP50  mAP50-95): 100%|██████████| 21/21 [01:16<00:00,  3.63s/it]\n"
     ]
    },
    {
     "name": "stdout",
     "output_type": "stream",
     "text": [
      "                   all        646       5655      0.815      0.526       0.69      0.368\n",
      "               echinus        465       2541      0.814      0.824       0.87      0.466\n",
      "              starfish        283        810      0.809       0.69      0.788      0.431\n",
      "           holothurian        288        834      0.677       0.51      0.571       0.28\n",
      "               scallop        221       1468      0.773      0.606      0.721      0.416\n",
      "            waterweeds          2          2          1          0      0.499       0.25\n",
      "Speed: 1.5ms preprocess, 79.8ms inference, 0.0ms loss, 0.7ms postprocess per image\n",
      "Results saved to \u001b[1mruns\\detect\\ppe_css_25_epochs2\u001b[0m\n"
     ]
    }
   ],
   "source": [
    "#retrain use model best.pt for another 25 epoch\n",
    "model = YOLO('D:/summer_intern/Dataset/UTDAC2020/UTDAC2020/runs/detect/ppe_css_25_epochs/weights/best.pt')\n",
    "results = model.train(\n",
    "    data=os.path.join(CFG.OUTPUT_DIR, 'data.yaml'),\n",
    "    epochs=CFG.EPOCHS,\n",
    "    batch=CFG.BATCH_SIZE,\n",
    "    optimizer=CFG.OPTIMIZER,\n",
    "    lr0=CFG.LR,\n",
    "    lrf=CFG.LR_FACTOR,\n",
    "    imgsz=(img_properties['height'], img_properties['width']),\n",
    "    seed=CFG.SEED,\n",
    "    \n",
    "    workers=4,\n",
    "    name=CFG.EXP_NAME,\n",
    "   \n",
    ")\n"
   ]
  },
  {
   "cell_type": "code",
   "execution_count": null,
   "metadata": {},
   "outputs": [],
   "source": []
  }
 ],
 "metadata": {
  "kernelspec": {
   "display_name": "base",
   "language": "python",
   "name": "python3"
  },
  "language_info": {
   "codemirror_mode": {
    "name": "ipython",
    "version": 3
   },
   "file_extension": ".py",
   "mimetype": "text/x-python",
   "name": "python",
   "nbconvert_exporter": "python",
   "pygments_lexer": "ipython3",
   "version": "3.11.3"
  }
 },
 "nbformat": 4,
 "nbformat_minor": 2
}
